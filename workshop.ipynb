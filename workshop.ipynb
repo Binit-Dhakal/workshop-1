{
 "cells": [
  {
   "cell_type": "markdown",
   "metadata": {},
   "source": [
    "<h3 style=\"color:blue;font-size:30px;text-align:center;\"><b>Python Workshop</b> </h3>"
   ]
  },
  {
   "cell_type": "markdown",
   "metadata": {},
   "source": [
    "<p style=\"font-size:15px; line-height:25px; color:green\"> Python is the one of the most popular programming languages. Its a general purpose programming language that is easy for any beginners to follow and powerful enough to do almost all tasks including web scraping,web programming,automated bot,and many more.<br>\n",
    "It is the de-facto language for machine learning and ai.<br> \n",
    "It was created by Guido van Rossum who released it in 1991 and gained popularity due to its easy syntax <br>\n",
    "Why it is easy for beginners??<br>\n",
    "<ul>\n",
    "    <li>statement grouping is done by indentation instead of brackets</li>\n",
    "    <li>no variable or argument declarations are necessary.</li>\n",
    "    </ul>\n",
    "</p>\n",
    "\n",
    "Fun fact :: The Python was named as a tribute to British comedy group -Monty Python and nothing to do with reptiles"
   ]
  },
  {
   "cell_type": "markdown",
   "metadata": {},
   "source": [
    "## Variables\n",
    "Variables are containers for storing data values. It's a way to keep some value accesible for later use in your program. You can name your program *almost* anything. Exceptions are the words that are already defined in python language.\n",
    "\n",
    "These are called **keywords** and they have pre-assigned standard values.\n",
    "\n",
    "Some keywords in python are:\n",
    "\n",
    "`and`, `or`, `not`, `for`, `while`, `break`, `continue`, `pass`, `if`, `elif`, `else`, `int`, `list`, `dict`, `float`, etc.\n",
    "\n",
    "You can still redefine these as your variables but please avoid them as it'll save you from having to deal with a lot of trouble later on."
   ]
  },
  {
   "cell_type": "markdown",
   "metadata": {},
   "source": [
    "<img src=\"https://encrypted-tbn0.gstatic.com/images?q=tbn%3AANd9GcSMiYbN4mk9SMOrb8vJTN_23pwum_2cSHxTow&usqp=CAU\" alt=\"python variables\">"
   ]
  },
  {
   "cell_type": "markdown",
   "metadata": {},
   "source": [
    "### Example code\n",
    "Here we use variables to store different kinds of datatypes\n",
    "\n",
    "```python\n",
    "# int stores integer values\n",
    "age = 20\n",
    "# float takes in real values\n",
    "marks = 70.54  \n",
    "# string is for texts\n",
    "name = \"Jhilke\" \n",
    "\n",
    "# list, as the name suggests, stores a list of values\n",
    "# the types of value could be anything. int, float, str, etc.\n",
    "interests = [\"programming\",\"math\",\"physics\",\"guitar playing\"] \n",
    "\n",
    "# boolean values, also simply called bool, store logical values ie. True or False\n",
    "passed = True\n",
    "\n",
    "# dictionary is when you want to store key-value pairs\n",
    "marks_more_clearly = {'calculus':50,'physics':70,'stat':80}\n",
    "\n",
    "# set only stores unique value\n",
    "# you might not use sets very often.\n",
    "teacher_he_like = {'mbs sir','ps sir','ps sir','bdg sir','dp sir','ka sir','ka sir','bdg sir'}  \n",
    "\n",
    "```"
   ]
  },
  {
   "cell_type": "markdown",
   "metadata": {},
   "source": [
    "<img align=center src=\"https://media.geeksforgeeks.org/wp-content/uploads/20200421145823/memory-allocation-python-1.jpg\" style=\"height:200px;\">"
   ]
  },
  {
   "cell_type": "markdown",
   "metadata": {},
   "source": [
    "### Numeric data types\n",
    "- `int`, `float`\n",
    "- operations\n",
    "- conversion\n",
    "- printing them out"
   ]
  },
  {
   "cell_type": "markdown",
   "metadata": {},
   "source": [
    "### Operators in python\n",
    "This webpage has a nice table for all the operators.\n",
    "https://www.w3schools.com/python/python_operators.asp\n",
    "\n",
    "But the summary is - every standard operations that you can think of has an implementation. "
   ]
  },
  {
   "cell_type": "markdown",
   "metadata": {},
   "source": [
    "```python\n",
    "###Arithmetic operators\n",
    "add=5+2     #7\n",
    "subt=5-2    #3\n",
    "mult=5*2    #10\n",
    "div=5/2     #2.5\n",
    "mod=5%2     #1  ##remainder\n",
    "expo=5**2    #25\n",
    "floor=5//2   #2  \n",
    "```\n",
    "```python\n",
    "###Assignment operator\n",
    "num=10\n",
    "num+=4  #14  ### num=num+4\n",
    "num-=14  #-4  ### num=num-14=10-14=-4\n",
    "num*=2  #20\n",
    "num/=2  #5.0\n",
    "num%=2  #0\n",
    "num**=2 #100\n",
    "num//=2 #5\n",
    "```\n",
    "```python\n",
    "##Comparison operator\n",
    "num1=10\n",
    "num2=40\n",
    "\n",
    "num1==num2 #False\n",
    "num1!=num2  #True\n",
    "num1< num2  #True\n",
    "num1>num2 #False\n",
    "```"
   ]
  },
  {
   "cell_type": "code",
   "execution_count": 4,
   "metadata": {},
   "outputs": [
    {
     "name": "stdout",
     "output_type": "stream",
     "text": [
      "6.0\n"
     ]
    }
   ],
   "source": [
    "## example-operators\n",
    "height = 3\n",
    "base = 4\n",
    "\n",
    "area=(1/2)*base*height\n",
    "print(area)"
   ]
  },
  {
   "cell_type": "markdown",
   "metadata": {},
   "source": [
    "## String\n",
    "\n",
    "- assign\n",
    "- join, concat\n",
    "- indexing\n",
    "- splicing/slicing"
   ]
  },
  {
   "cell_type": "markdown",
   "metadata": {},
   "source": [
    "#### Some code examples using string\n",
    "\n",
    "```python\n",
    "s1=\"Python\"\n",
    "\n",
    "# joining two strings together is called 'concatenation`\n",
    "# or simply concat\n",
    "s2=\"it is typed \" + s1\n",
    "\n",
    "'py''thon'  ##automatically concatenated\n",
    "```"
   ]
  },
  {
   "cell_type": "markdown",
   "metadata": {},
   "source": [
    "#### Indexing\n",
    "Each character in a string is assigned an index, which is a integer value indicating it's position in the string. For eg.\n",
    "\n",
    "```python\n",
    "\n",
    "s1 = \"Python\"\n",
    "#  +---+---+---+---+---+---+\n",
    "#  | P | y | t | h | o | n |\n",
    "#  +---+---+---+---+---+---+\n",
    "#  0   1   2   3   4   5   6\n",
    "# -6  -5  -4  -3  -2  -1\n",
    "\n",
    "s1[4]    # o\n",
    "\n",
    "s1[0:4]  # equivalent to s1[:4]\n",
    "s1[1:4]\n",
    "s1[5:]\n",
    "\n",
    "s1[::]#----> s1[start:stop(exclusive):step]\n",
    "s1[1:5:2]\n",
    "s1[-1:-4:-1]\n",
    "```"
   ]
  },
  {
   "cell_type": "markdown",
   "metadata": {},
   "source": [
    "#### Methods in strings\n",
    "We want to make different kinds of manipulation to strings in our programs. Python provides ways to do many such kinds of manipulation.\n",
    "\n",
    "These are called methods. Methods are specific to data type. \n",
    "\n",
    "So, `int` and `str` have their own separate methods\n",
    "\n",
    "```python\n",
    "s1.lower()\n",
    "s1.upper()\n",
    "\n",
    "s1.split(\"h\")\n",
    "\n",
    "line = \"Python is awesome!\"\n",
    "line.split(\" \") # that's a space in between quotes\n",
    "\n",
    "line.upper()\n",
    "line.lower()\n",
    "\n",
    "line.replace(\"Python\", \"C++\")\n",
    "```\n",
    "\n",
    "You can always google to find more methods available for strings! "
   ]
  },
  {
   "cell_type": "markdown",
   "metadata": {},
   "source": [
    "### Formatted printing\n",
    "Just put them in the curly braces!\n",
    "```python\n",
    "age = 18\n",
    "print(\"I'm {age} years old.\")\n",
    "```"
   ]
  },
  {
   "cell_type": "markdown",
   "metadata": {},
   "source": [
    "### Taking input"
   ]
  },
  {
   "cell_type": "code",
   "execution_count": null,
   "metadata": {},
   "outputs": [],
   "source": [
    "name = input(\"What is your name??\")\n",
    "test = f\"my name is {name}\"\n",
    "print(test)"
   ]
  },
  {
   "cell_type": "markdown",
   "metadata": {},
   "source": [
    "<h4>Logical Operators</h4>\n",
    "<ul>\n",
    "    <li>and</li>\n",
    "    <li>or </li>\n",
    "    <li>not </li>\n",
    "    </ul>"
   ]
  },
  {
   "cell_type": "markdown",
   "metadata": {},
   "source": [
    "<img src=\"data:image/png;base64,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\">"
   ]
  },
  {
   "cell_type": "markdown",
   "metadata": {},
   "source": [
    "<img src=\"https://projectiot123.com/wp-content/uploads/2019/05/OR-GATE.jpg\" style=\"height:200px\">"
   ]
  },
  {
   "cell_type": "code",
   "execution_count": null,
   "metadata": {},
   "outputs": [],
   "source": [
    "#Logical operator\n",
    "num1=10\n",
    "num2=20\n",
    "num3=30\n",
    "num4=40\n",
    "\n",
    "num1<num2 and num3<num4  ##True\n",
    "num1 >num2 and num3<num4 ##False\n",
    "\n",
    "num1>num2 or num3<num4  #True\n",
    "num1<num2 or num3>num4  #False\n",
    "\n",
    "not num1<num2"
   ]
  },
  {
   "cell_type": "markdown",
   "metadata": {},
   "source": [
    "---"
   ]
  },
  {
   "cell_type": "markdown",
   "metadata": {},
   "source": [
    "### Conditionals\n",
    "```python\n",
    "if (this condition):\n",
    "    do this code\n",
    "elif (this one):\n",
    "    do this instead\n",
    "else:\n",
    "    this\n",
    "```"
   ]
  },
  {
   "cell_type": "markdown",
   "metadata": {},
   "source": [
    "<img src=\"https://beginnersbook.com/wp-content/uploads/2017/09/If_else_flow_diagram_C.jpg\">"
   ]
  },
  {
   "cell_type": "code",
   "execution_count": null,
   "metadata": {},
   "outputs": [],
   "source": [
    "x=40\n",
    "y=50\n",
    "\n",
    "if x<y:\n",
    "    print(\"x is greater\")\n",
    "elif x>y:\n",
    "    print(\"x is less\")\n",
    "else:\n",
    "    print(\"x is equal\")"
   ]
  },
  {
   "cell_type": "code",
   "execution_count": 4,
   "metadata": {},
   "outputs": [
    {
     "name": "stdout",
     "output_type": "stream",
     "text": [
      "Enter height: 0\n",
      "Enter base: 0\n",
      "Please enter valid base and height\n"
     ]
    }
   ],
   "source": [
    "#eg-conditional\n",
    "##example-operators\n",
    "height=int(input(\"Enter height: \"))\n",
    "base=int(input(\"Enter base: \"))\n",
    "\n",
    "if height>0 and base>0:\n",
    "    area=(1/2)*base*height\n",
    "    print(area)\n",
    "else:\n",
    "    if height==0 or width==0:\n",
    "        print(\"Your base or height is 0 please enter more than 0\")\n",
    "    elif height<0 or width<0:\n",
    "        print(\"Your base or height is less than 0 please enter less than 0\")"
   ]
  },
  {
   "cell_type": "markdown",
   "metadata": {},
   "source": [
    "<h3>Excersice 1--fizzbuzz </h3>\n",
    "    <ul>\n",
    "        <li>Takes number from user</li>\n",
    "        <li>If number is divisible by 3 print \"fizz\"</li>\n",
    "        <li>If number is divisible by 5 print \"buzz\"</li>\n",
    "        <li>If number is divisible by both 3 and 5 print \"fizzbuzz\"</li>\n",
    "        <li>If number is not divisible by both return the same number </li>\n",
    "    </ul>"
   ]
  },
  {
   "cell_type": "code",
   "execution_count": null,
   "metadata": {},
   "outputs": [],
   "source": [
    "##eg if input is 9 print fizz\n",
    "##eg if input is 10 print buzz\n",
    "##eg if input is 15 print fizzbuzz\n",
    "\n",
    "###TODO"
   ]
  },
  {
   "cell_type": "markdown",
   "metadata": {},
   "source": [
    "<h6>------------------------------------------------------------------------------------------------------------------------------------------------------------------------------------------------------------------------------------------------------------------------------------------------------------------------------------------------------------------------------------------------------------------------------------------------------------------------------------------------------------------------------------------------------------------------------------------------------------------------------------------------------------------------------------------------------------------------------------------------------------------------------------------------------------------------------------------------------------------------</h6>"
   ]
  },
  {
   "cell_type": "markdown",
   "metadata": {},
   "source": [
    "<p style=\"font-size:20px\"><b>FUNCTION</b></p><br>\n",
    "<p style=\"font-size:15px;line-height:40px;font-style=sans-serif\"><i>\n",
    "A function is a block of code which only runs when it is called.<br>\n",
    "You can pass data, known as parameters, into a function.A function can return data as a result.<br>\n",
    "Its just like mathematics function.. you give it some input and it process and carry out some operation and return you output<br>  \n",
    "</i>\n",
    "Why function???\n",
    "    <ul>\n",
    "    <li> Functions allow us to divide the problem into logical chunks of sub-problems that\n",
    "        we can separately deal with.</li>\n",
    "        <li>makes code more readable and more structured!\n",
    "        </li>\n",
    "        <li>\n",
    "            makes debugging easy !\n",
    "        </li>\n",
    "</ul>\n",
    "</p>"
   ]
  },
  {
   "cell_type": "markdown",
   "metadata": {},
   "source": [
    "<img src=\"https://encrypted-tbn0.gstatic.com/images?q=tbn%3AANd9GcT-YS_kbnG1q7nMwL7lBgCdGXdXxYDLUEfCdw&usqp=CAU\">"
   ]
  },
  {
   "cell_type": "code",
   "execution_count": 2,
   "metadata": {},
   "outputs": [],
   "source": [
    "##eg-1\n",
    "\n",
    "def add(a,b):    #---->parameter \n",
    "    return a+b\n",
    "\n",
    "x=4\n",
    "y=5\n",
    "sum=add(x,y)    #------>argument"
   ]
  },
  {
   "cell_type": "markdown",
   "metadata": {},
   "source": [
    "<img src=\"data:image/png;base64,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\">"
   ]
  },
  {
   "cell_type": "code",
   "execution_count": 4,
   "metadata": {},
   "outputs": [
    {
     "data": {
      "text/plain": [
       "'Welcome Binit'"
      ]
     },
     "execution_count": 4,
     "metadata": {},
     "output_type": "execute_result"
    }
   ],
   "source": [
    "def add_string(name):\n",
    "    return \"Welcome \"+name\n",
    "\n",
    "add_string(\"Binit\")"
   ]
  },
  {
   "cell_type": "code",
   "execution_count": 9,
   "metadata": {},
   "outputs": [
    {
     "name": "stdout",
     "output_type": "stream",
     "text": [
      "Enter height: -1\n",
      "Enter base: 1\n",
      "Your base or height is less than 0 please enter less than 0\n"
     ]
    }
   ],
   "source": [
    "##eg function--area\n",
    "height=int(input(\"Enter height: \"))\n",
    "base=int(input(\"Enter base: \"))\n",
    "\n",
    "def area(h,b):\n",
    "    a=(1/2)*b*h\n",
    "    return a\n",
    "\n",
    "def check(h,b):\n",
    "    if h==0 or b==0:\n",
    "        print(\"Your base or height is 0 please enter more than 0\")\n",
    "    elif h<0 or b<0:\n",
    "        print(\"Your base or height is less than 0 please enter less than 0\")\n",
    "\n",
    "if height>0 and base>0:\n",
    "    a=area(height,base)\n",
    "    print(a)\n",
    "else:\n",
    "    check(height,base)\n",
    "    "
   ]
  },
  {
   "cell_type": "code",
   "execution_count": 8,
   "metadata": {},
   "outputs": [
    {
     "data": {
      "text/plain": [
       "(42, 43, 123)"
      ]
     },
     "execution_count": 8,
     "metadata": {},
     "output_type": "execute_result"
    }
   ],
   "source": [
    "##arbitraty arguments \n",
    "def testt(*args):\n",
    "    return args[0],args[1],args[2]\n",
    "testt(42,43,123)"
   ]
  },
  {
   "cell_type": "markdown",
   "metadata": {},
   "source": [
    "<h3>Excersice 2--function-->swap numbers</h3><br>\n",
    "take two inputs from user num1 and num2 and swap the value \"stored\" in variables <br>\n",
    "num1=10  and num2=20<br>\n",
    "|<br>\n",
    "|<br>\n",
    " function <br>\n",
    " |<br>\n",
    " |<br>\n",
    "num1=20  and num2=10"
   ]
  },
  {
   "cell_type": "code",
   "execution_count": 13,
   "metadata": {},
   "outputs": [
    {
     "name": "stdout",
     "output_type": "stream",
     "text": [
      "First number4\n",
      "Second number4\n"
     ]
    }
   ],
   "source": [
    "num1=int(input(\"First number\"))\n",
    "num2=int(input(\"Second number\"))\n",
    "\n",
    "#TODO"
   ]
  },
  {
   "cell_type": "markdown",
   "metadata": {},
   "source": [
    "<h3>LISTS</h3>"
   ]
  },
  {
   "cell_type": "code",
   "execution_count": null,
   "metadata": {},
   "outputs": [],
   "source": [
    "squares=[1,4,9,16,25]\n",
    "squares[-1] #25\n",
    "squares[1:3] #[4,9]\n",
    "squares[::2] #[1,9,25]\n",
    "\n",
    "#mutable\n",
    "squares[3]=36 ##[1,4,9,36,25]\n",
    "squares.append(7**2)  #[1, 4, 9, 36, 25, 49]\n",
    "\n",
    "squares.pop()  #removes last item from list [1, 4, 9, 36, 25]\n",
    "len(squares) #5\n",
    "\n",
    "#nesting lists\n",
    "a=[2,3,4]\n",
    "b=['bin','nit']\n",
    "l=[a,b]\n",
    "print(l)"
   ]
  },
  {
   "cell_type": "markdown",
   "metadata": {},
   "source": [
    "<h3>Dictionary</h3>"
   ]
  },
  {
   "cell_type": "code",
   "execution_count": null,
   "metadata": {},
   "outputs": [],
   "source": [
    "#dictionary  key-value pair .....like here nepal(country) is key and kathmandu(capital) is value\n",
    "country_capital={\n",
    "    'nepal':'kathmandu',\n",
    "    'india':'new delhi',\n",
    "    'pakistan':'islamabad'\n",
    "}\n",
    "\n",
    "country_capital['nepal']   ##kathmandu\n",
    "country_capital['china']='beijing'\n",
    "\n",
    "country_capital\n"
   ]
  },
  {
   "cell_type": "markdown",
   "metadata": {},
   "source": [
    "---"
   ]
  },
  {
   "cell_type": "markdown",
   "metadata": {},
   "source": [
    "<p style=\"font-size:20px\"><b>LOOPS</b></p>\n",
    "\n",
    "-for loop<br>\n",
    "-while loop"
   ]
  },
  {
   "cell_type": "markdown",
   "metadata": {},
   "source": [
    "<img src=\"https://lh3.googleusercontent.com/proxy/xepFW_qXbayxl0PANGc8LyxDhOVS-PgCHSI3l-c0M4bhOB7lNAG4PW781o_wCG9yxicNqxZ9gohf24q5mas-8KlMYP9gqBypN1qqOikcxqo\">"
   ]
  },
  {
   "cell_type": "code",
   "execution_count": null,
   "metadata": {},
   "outputs": [],
   "source": [
    "name=\"niteerw\"\n",
    "\"nit\" in name   ##\"in\" is a membership operator \n",
    "##Membership operators are used to test if a sequence is presented in an object:"
   ]
  },
  {
   "cell_type": "code",
   "execution_count": null,
   "metadata": {},
   "outputs": [],
   "source": [
    "numbers_list=[1,2,3,4,5,6,7,8,9,10]\n",
    "for i in numbers_list:\n",
    "    print(i)\n",
    "\n",
    "for i in range(100):\n",
    "    print(i)\n",
    "    \n",
    "print(i)\n",
    "for i in range(50,56,2):\n",
    "    print(i)"
   ]
  },
  {
   "cell_type": "code",
   "execution_count": null,
   "metadata": {},
   "outputs": [],
   "source": [
    "#A for loop is used for iterating over a sequence (list,string,dictionary,tuple)\n",
    "##example-1 lists ##\n",
    "fruits=['apple','cherry','banana','pineapple']\n",
    "for fruit in fruits:\n",
    "    print(fruit)\n",
    "print()"
   ]
  },
  {
   "cell_type": "code",
   "execution_count": null,
   "metadata": {},
   "outputs": [],
   "source": [
    "## example-2 dictionary##\n",
    "country_capital={'nepal':'kathmandu','india':'new delhi','pakistan':'islamabad'}\n",
    "for item in country_capital:\n",
    "    print(item)             ###only give key\n",
    "\n",
    "print()\n",
    "\n",
    "for item in country_capital:\n",
    "    print(country_capital[item])   ##accesing value\n",
    "print()\n",
    "    \n",
    "for item in country_capital.values():\n",
    "    print(item)\n",
    "print()\n",
    "\n",
    "print(country_capital.items())\n",
    "for item,value in country_capital.items():\n",
    "    print(value)"
   ]
  },
  {
   "cell_type": "code",
   "execution_count": null,
   "metadata": {},
   "outputs": [],
   "source": [
    "##more complex logics\n",
    "teachers=[\"PS sir\",\"DP sir\",\"KA sir\",\"SNS sir\"]\n",
    "for teacher in teachers:\n",
    "    print(teacher)\n",
    "\n",
    "for teacher in teachers:\n",
    "    if (teacher==\"SNS sir\"):\n",
    "        break\n",
    "    print(teacher)"
   ]
  },
  {
   "cell_type": "code",
   "execution_count": 4,
   "metadata": {},
   "outputs": [
    {
     "name": "stdout",
     "output_type": "stream",
     "text": [
      "1\n",
      "2\n",
      "3\n",
      "4\n",
      "5\n",
      "6\n",
      "7\n"
     ]
    }
   ],
   "source": [
    "##glance at while\n",
    "##while loop is executed until the condition is met\n",
    "i=1\n",
    "while i<10:\n",
    "    print(i)\n",
    "    i+=1\n",
    "    if i==8:\n",
    "        break"
   ]
  },
  {
   "cell_type": "markdown",
   "metadata": {},
   "source": [
    "<h3>Excersice 3--Hacking ATM by bruteforcing</h3>\n",
    "<p>\n",
    "    You should write a program that can check if the number is the atm pin of user...manually we have to first check 1 and 2 and 3 and 4 and 5....and as atm pin is 4 digit long it will take us (in worst case) 9999 attempt to crack the pin..\n",
    "    but we dont want to do that manually as it will take us hell lot of time that is where power of loop comes \n",
    "</p>\n",
    "<p>\n",
    "    Your task is to take input from user and ask for them for their pin number..(arbitrary)<br> \n",
    "    and you should print \"You have been hacked haha\" when u are able to crack their number and also print the number inputed by user<br>\n",
    "    </p>\n",
    "    <p>\n",
    "    Dont think much Take easy approach:)</p>"
   ]
  },
  {
   "cell_type": "code",
   "execution_count": 14,
   "metadata": {},
   "outputs": [
    {
     "name": "stdout",
     "output_type": "stream",
     "text": [
      "Enter your pin number4\n"
     ]
    }
   ],
   "source": [
    "correct_pin=int(input(\"Enter your pin number\"))\n",
    "#TODO"
   ]
  },
  {
   "cell_type": "markdown",
   "metadata": {},
   "source": [
    "<h3>Excersice 4--print all squares</h3><br>\n",
    "Take an input from user (for eg:5) and for all non-negative number less than user's input print i**2 <br>\n",
    "for eg if i=10 your program should print i=[0,1,4,9,16,25,36,49,64,81] (not including 10)"
   ]
  },
  {
   "cell_type": "code",
   "execution_count": 24,
   "metadata": {},
   "outputs": [
    {
     "name": "stdout",
     "output_type": "stream",
     "text": [
      "Your input: 4\n",
      "[0, 1, 4, 9]\n"
     ]
    }
   ],
   "source": [
    "num_input=int(input(\"Your input: \"))\n",
    "#TODO"
   ]
  },
  {
   "cell_type": "code",
   "execution_count": 1,
   "metadata": {},
   "outputs": [],
   "source": [
    "import jovian"
   ]
  },
  {
   "cell_type": "code",
   "execution_count": 2,
   "metadata": {},
   "outputs": [
    {
     "data": {
      "application/javascript": [
       "window.require && require([\"base/js/namespace\"],function(Jupyter){Jupyter.notebook.save_checkpoint()})"
      ],
      "text/plain": [
       "<IPython.core.display.Javascript object>"
      ]
     },
     "metadata": {},
     "output_type": "display_data"
    },
    {
     "name": "stdout",
     "output_type": "stream",
     "text": [
      "[jovian] Attempting to save notebook..\n",
      "[jovian] Updating notebook \"binit-dhakal/worshop-3f1fc\" on https://jovian.ml/\n",
      "[jovian] Uploading notebook..\n",
      "[jovian] Capturing environment..\n",
      "[jovian] Committed successfully! https://jovian.ml/binit-dhakal/worshop-3f1fc\n"
     ]
    },
    {
     "data": {
      "text/plain": [
       "'https://jovian.ml/binit-dhakal/worshop-3f1fc'"
      ]
     },
     "execution_count": 2,
     "metadata": {},
     "output_type": "execute_result"
    }
   ],
   "source": [
    "jovian.commit()"
   ]
  }
 ],
 "metadata": {
  "kernelspec": {
   "display_name": "Python 3",
   "language": "python",
   "name": "python3"
  },
  "language_info": {
   "codemirror_mode": {
    "name": "ipython",
    "version": 3
   },
   "file_extension": ".py",
   "mimetype": "text/x-python",
   "name": "python",
   "nbconvert_exporter": "python",
   "pygments_lexer": "ipython3",
   "version": "3.7.3"
  }
 },
 "nbformat": 4,
 "nbformat_minor": 4
}
