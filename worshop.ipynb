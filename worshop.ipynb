{
 "cells": [
  {
   "cell_type": "markdown",
   "metadata": {},
   "source": [
    "<h3 style=\"color:blue;font-size:30px;text-align:center;\"><b>Python Workshop</b> </h3>"
   ]
  },
  {
   "cell_type": "markdown",
   "metadata": {},
   "source": [
    "<p style=\"font-size:15px; line-height:25px; color:green\"> Python is the one of the most popular programming languages. Its a general propose programming language that is easy for any beginners to follow and powerful enough to do almost all tasks including web scraping,web programming,automated bot,and many more.<br>\n",
    "It is the de-facto language for machine learning and ai.<br> \n",
    "It was created by Guido van Rossum who released it in 1991 and gained popularity due to its easy syntax <br>\n",
    "Why it is easy for beginners??<br>\n",
    "<ul>\n",
    "    <li>statement grouping is done by indentation instead of brackets</li>\n",
    "    <li>no variable or argument declarations are necessary.</li>\n",
    "    </ul>\n",
    "</p>"
   ]
  },
  {
   "cell_type": "markdown",
   "metadata": {},
   "source": [
    "Fun fact :: The Python was named as a tribute to British comedy group -Monty Python and nothing to do with reptiles"
   ]
  },
  {
   "cell_type": "markdown",
   "metadata": {},
   "source": [
    "<p style=\"font-size:20px\"><b>VARIABLES</b></p>\n",
    "    <h5>Variables are containers for storing data values.</h5>\n",
    "    <h6>Immutable</h6>\n",
    "    <ul>\n",
    "        <li>Integer</li>\n",
    "        <li>Float</li>\n",
    "        <li>String--str</li>\n",
    "        <li>Tuple</li>\n",
    "        <li>Bool--bool</li>\n",
    "        <li>Range</li>\n",
    "    </ul>\n",
    "    <h6>Mutable</h6>\n",
    "    <ul>\n",
    "        <li>List</li>\n",
    "        <li>Dictionary</li>\n",
    "        <li>Set</li>\n",
    "    </ul>"
   ]
  },
  {
   "cell_type": "code",
   "execution_count": null,
   "metadata": {},
   "outputs": [],
   "source": [
    "#student \n",
    "age=20    ##integer can be positive or negative\n",
    "marks=70.54  ##float\n",
    "name=\"Jhilke\" ##string\n",
    "interests=[\"programming\",\"math\",\"physics\",\"guitar playing\"] ##we can add item later to this list\n",
    "marks=(50,70,80) #marks in first term calculas,physics,stat ##this cannot be changes  #tuple\n",
    "passed=True #or False ##Bool\n",
    "marks_more_clearly={'calculas':50,'physics':70,'stat':80} #dictionary stores key-value pairs\n",
    "teacher_he_like={'mbs sir','ps sir','ps sir','bdg sir','dp sir','ka sir','ka sir','bdg sir'}  #set only stores unique value\n",
    "teacher_he_like"
   ]
  },
  {
   "cell_type": "code",
   "execution_count": null,
   "metadata": {},
   "outputs": [],
   "source": [
    "##mutable and immutable \n",
    "##we can see the memory adress of integer changes but of list dont change so int is immutable and list is mutable\n",
    "##IMMUTABLE\n",
    "age=20\n",
    "print(id(age))  ##140709483287968 ##memory adress will change each time.. this is done for security proposes\n",
    "\n",
    "age=age+30\n",
    "print(id(age))  ##140709483288928\n",
    "\n",
    "##MUTABLE -list,dictionary\n",
    "test=[1,2,3,4]\n",
    "print(id(test))  ##2008098572360\n",
    "\n",
    "test.append(5)\n",
    "print(id(test))  ##2008098572360\n"
   ]
  },
  {
   "cell_type": "markdown",
   "metadata": {},
   "source": [
    "<h3>STRING</h3>\n",
    "<p style=\"font-size:15px\">\n",
    "---->initialization<br>\n",
    "---->concatenation<br>\n",
    "---->indexing<br>\n",
    "---->some methods</p>"
   ]
  },
  {
   "cell_type": "code",
   "execution_count": null,
   "metadata": {},
   "outputs": [],
   "source": [
    "###STRING###\n",
    "\n",
    "s1=\"Python\"  ##initialization\n",
    "s2=\"it is typed \"+s1  ##'It is typed I am a string' ##string concatenation\n",
    "'py''thon'  ##automatically concatenated\n",
    "\n",
    "##INDEXING##\n",
    "s1[4]    ##o\n",
    "                        #  +---+---+---+---+---+---+\n",
    "                        #  | P | y | t | h | o | n |\n",
    "                        #  +---+---+---+---+---+---+\n",
    "                        #  0   1   2   3   4   5   6\n",
    "                        # -6  -5  -4  -3  -2  -1\n",
    "s1[0:4]  #s1[:4]\n",
    "s1[1:4]\n",
    "s1[5:]\n",
    "\n",
    "s1[::]#----> s1[start:stop(exclusive):step]\n",
    "s1[1:5:2]\n",
    "s1[-1:-4:-1]\n",
    "\n",
    "##methods in strings\n",
    "s1.lower()\n",
    "s1.upper()\n",
    "\n",
    "s1.split(\"h\")\n",
    "num=300\n",
    "# str0=\"I love you\"+num  ###Type error: can only concatenate str (not \"int\") to str\n",
    "str0=\"I love you {0}\".format(num)\n",
    "str00=f\"I love you {num}\"\n",
    "str00.isalpha()  #Returns True if all characters in the string are in the alphabet\n",
    "str00.isalnum()  #Returns True if all characters in the string are alphanumeric\n",
    "str00.isdigit()  #Returns True if all characters in the string are digits\n",
    "str00.islower()  #\tConverts a string into lower case\n",
    "\n",
    "len(str00)  #14"
   ]
  },
  {
   "cell_type": "markdown",
   "metadata": {},
   "source": [
    "<h3>LISTS</h3>"
   ]
  },
  {
   "cell_type": "code",
   "execution_count": null,
   "metadata": {},
   "outputs": [],
   "source": [
    "squares=[1,4,9,16,25]\n",
    "squares[-1] #25\n",
    "squares[1:3] #[4,9]\n",
    "squares[::2] #[1,9,25]\n",
    "\n",
    "#mutable\n",
    "squares[3]=36 ##[1,4,9,36,25]\n",
    "squares.append(7**2)  #[1, 4, 9, 36, 25, 49]\n",
    "\n",
    "squares.pop()  #removes last item from list [1, 4, 9, 36, 25]\n",
    "len(squares) #5\n",
    "\n",
    "#nesting lists\n",
    "a=[2,3,4]\n",
    "b=['bin','nit']\n",
    "l=[a,b]\n",
    "print(l)"
   ]
  },
  {
   "cell_type": "markdown",
   "metadata": {},
   "source": [
    "<h3>Dictionary</h3>"
   ]
  },
  {
   "cell_type": "code",
   "execution_count": null,
   "metadata": {},
   "outputs": [],
   "source": [
    "#dictionary  key-value pair .....like here nepal(country) is key and kathmandu(capital) is value\n",
    "country_capital={\n",
    "    'nepal':'kathmandu',\n",
    "    'india':'new delhi',\n",
    "    'pakistan':'islamabad'\n",
    "}\n",
    "\n",
    "country_capital['nepal']   ##kathmandu\n",
    "country_capital['china']='beijing'\n",
    "\n",
    "country_capital\n"
   ]
  },
  {
   "cell_type": "markdown",
   "metadata": {},
   "source": [
    "<h6>------------------------------------------------------------------------------------------------------------------------------------------------------------------------------------------------------------------------------------------------------------------------------------------------------------------------------------------------------------------------------------------------------------------------------------------------------------------------------------------------------------------------------------------------------------------------------------------------------------------------------------------------------------------------------------------------------------------------------------------------------------------------------------------------------------------------------------------------------------------------</h6>"
   ]
  },
  {
   "cell_type": "markdown",
   "metadata": {},
   "source": [
    "<p style=\"font-size:20px\"><b>Operators</b><p>\n",
    "    <h6>Arithmetic operator</h6>\n",
    "    <ul>\n",
    "        <li>+     Addition</li>\n",
    "        <li>-     Subtraction</li>\n",
    "        <li>*     Multiplication</li>\n",
    "        <li>/     Division</li>\n",
    "        <li>%     Modulus</li>\n",
    "        <li>**    Exponentiation</li>\n",
    "        <li>//    Floor division</li>\n",
    "     </ul>\n",
    "     \n",
    "   <h6>Comparison Operator</h6>\n",
    "   <ul> \n",
    "    <li> ==    Equal </li>\n",
    "    <li> !=    Not Equal </li>\n",
    "    <li>  >      Greater Than </li>\n",
    "    <li>  <     Less than </li>\n",
    "    <li>  >=    Greater than and equals to </li>\n",
    "    <li>   <=   Less than and equals to </li>\n",
    "     \n",
    "  "
   ]
  },
  {
   "cell_type": "code",
   "execution_count": null,
   "metadata": {},
   "outputs": [],
   "source": [
    "###Arithmetic operators\n",
    "add=5+2     #7\n",
    "subt=5-2    #3\n",
    "mult=5*2    #10\n",
    "div=5/2     #2.5\n",
    "mod=5%2     #1  ##remainder\n",
    "expo=5**2    #25\n",
    "floor=5//2   #2  \n",
    "\n",
    "###Assignment operator\n",
    "num=10\n",
    "num+=4  #14  ### num=num+4\n",
    "num-=14  #-4  ### num=num-14=10-14=-4\n",
    "num*=2  #20\n",
    "num/=2  #5.0\n",
    "num%=2  #0\n",
    "num**=2 #100\n",
    "num//=2 #5\n",
    "\n",
    "##Comparison operator\n",
    "num1=10\n",
    "num2=40\n",
    "\n",
    "num1==num2 #False\n",
    "num1!=num2  #True\n",
    "num1< num2  #True\n",
    "num1>num2 #False"
   ]
  },
  {
   "cell_type": "markdown",
   "metadata": {},
   "source": [
    "<h6>Logical Operators</h6>\n",
    "<ul>\n",
    "    <li>and</li>\n",
    "    <li>or </li>\n",
    "    <li>not </li>\n",
    "    </ul>"
   ]
  },
  {
   "cell_type": "code",
   "execution_count": null,
   "metadata": {},
   "outputs": [],
   "source": [
    "#Logical operator\n",
    "num1=10\n",
    "num2=20\n",
    "num3=30\n",
    "num4=40\n",
    "\n",
    "num1<num2 and num3<num4  ##True\n",
    "num1 >num2 and num3<num4 ##False\n",
    "\n",
    "num1>num2 or num3<num4  #True\n",
    "num1<num2 or num3>num4  #False\n",
    "\n",
    "not num1<num2"
   ]
  },
  {
   "cell_type": "markdown",
   "metadata": {},
   "source": [
    "<h6>------------------------------------------------------------------------------------------------------------------------------------------------------------------------------------------------------------------------------------------------------------------------------------------------------------------------------------------------------------------------------------------------------------------------------------------------------------------------------------------------------------------------------------------------------------------------------------------------------------------------------------------------------------------------------------------------------------------------------------------------------------------------------------------------------------------------------------------------------------------------</h6>"
   ]
  },
  {
   "cell_type": "markdown",
   "metadata": {},
   "source": [
    "<p style=\"font-size:20px\"><b>Conditionals</b></p><br>\n",
    "if condition:<br>\n",
    "<span style=\"text-indent:45px\">Do this !!!</span><br><br>\n",
    "elif condition:<br>\n",
    "<t>Do this !!!</t><br><br>\n",
    "else:<br>\n",
    "<t>Do this!!!</t><br>"
   ]
  },
  {
   "cell_type": "code",
   "execution_count": null,
   "metadata": {},
   "outputs": [],
   "source": [
    "x=40\n",
    "y=50\n",
    "\n",
    "if x<y:\n",
    "    print(\"x is greater\")\n",
    "elif x>y:\n",
    "    print(\"x is less\")\n",
    "else:\n",
    "    print(\"x is equal\")"
   ]
  },
  {
   "cell_type": "code",
   "execution_count": null,
   "metadata": {},
   "outputs": [],
   "source": [
    "#taking input from user\n",
    "name=input(\"What is your name??\")\n",
    "test=f\"my name is {name}\"\n",
    "test\n",
    "\n",
    "#broadcasting\n",
    "# int()\n",
    "# float()"
   ]
  },
  {
   "cell_type": "markdown",
   "metadata": {},
   "source": [
    "<h3>Excersice 1--fizzbuzz </h3>\n",
    "    <ul>\n",
    "        <li>Takes number from user</li>\n",
    "        <li>If number is divisible by 3 print \"fizz\"</li>\n",
    "        <li>If number is divisible by 5 print \"buzz\"</li>\n",
    "        <li>If number is divisible by both 3 and 5 print \"fizzbuzz\"</li>\n",
    "        <li>If number is not divisible by both return the same number </li>\n",
    "    </ul>"
   ]
  },
  {
   "cell_type": "code",
   "execution_count": null,
   "metadata": {},
   "outputs": [],
   "source": [
    "##eg if input is 9 print fizz\n",
    "##eg if input is 10 print buzz\n",
    "##eg if input is 15 print fizzbuzz\n",
    "\n",
    "num=int(input())\n",
    "# num=int(num)\n",
    "if num%3==0 and num%5==0:\n",
    "    print(\"fizzbuzz\")\n",
    "elif num%3==0:\n",
    "    print(\"fizz\")\n",
    "elif num%5==0:\n",
    "    print(\"buzz\")\n",
    "else:\n",
    "    print(num)"
   ]
  },
  {
   "cell_type": "markdown",
   "metadata": {},
   "source": [
    "<h6>------------------------------------------------------------------------------------------------------------------------------------------------------------------------------------------------------------------------------------------------------------------------------------------------------------------------------------------------------------------------------------------------------------------------------------------------------------------------------------------------------------------------------------------------------------------------------------------------------------------------------------------------------------------------------------------------------------------------------------------------------------------------------------------------------------------------------------------------------------------------</h6>"
   ]
  },
  {
   "cell_type": "markdown",
   "metadata": {},
   "source": [
    "<p style=\"font-size:20px\"><b>LOOPS</b></p>\n",
    "\n",
    "-for loop<br>\n",
    "-while loop"
   ]
  },
  {
   "cell_type": "code",
   "execution_count": null,
   "metadata": {},
   "outputs": [],
   "source": [
    "name=\"niteerw\"\n",
    "\"nit\" in name   ##\"in\" is a membership operator \n",
    "##Membership operators are used to test if a sequence is presented in an object:"
   ]
  },
  {
   "cell_type": "code",
   "execution_count": null,
   "metadata": {},
   "outputs": [],
   "source": [
    "#A for loop is used for iterating over a sequence (list,string,dictionary,tuple)\n",
    "##example-1 lists ##\n",
    "fruits=['apple','cherry','banana','pineapple']\n",
    "for fruit in fruits:\n",
    "    print(fruit)\n",
    "print()"
   ]
  },
  {
   "cell_type": "code",
   "execution_count": null,
   "metadata": {},
   "outputs": [],
   "source": [
    "## example-2 dictionary##\n",
    "country_capital={'nepal':'kathmandu','india':'new delhi','pakistan':'islamabad'}\n",
    "for item in country_capital:\n",
    "    print(item)             ###only give key\n",
    "\n",
    "print()\n",
    "\n",
    "for item in country_capital:\n",
    "    print(country_capital[item])   ##accesing value\n",
    "print()\n",
    "    \n",
    "for item in country_capital.values():\n",
    "    print(item)\n",
    "print()\n",
    "\n",
    "print(country_capital.items())\n",
    "for item,value in country_capital.items():\n",
    "    print(value)"
   ]
  },
  {
   "cell_type": "code",
   "execution_count": null,
   "metadata": {},
   "outputs": [],
   "source": [
    "numbers_list=[1,2,3,4,5,6,7,8,9,10]\n",
    "for i in numbers_list:\n",
    "    print(i)\n",
    "\n",
    "for i in range(100):\n",
    "    print(i)\n",
    "    \n",
    "print(i)\n",
    "for i in range(50,56,2):\n",
    "    print(i)"
   ]
  },
  {
   "cell_type": "code",
   "execution_count": null,
   "metadata": {},
   "outputs": [],
   "source": [
    "##more complex logics\n",
    "teachers=[\"PS sir\",\"DP sir\",\"KA sir\",\"SNS sir\"]\n",
    "for teacher in teachers:\n",
    "    print(teacher)\n",
    "\n",
    "for teacher in teachers:\n",
    "    if (teacher==\"SNS sir\"):\n",
    "        break\n",
    "    print(teacher)"
   ]
  },
  {
   "cell_type": "code",
   "execution_count": 4,
   "metadata": {},
   "outputs": [
    {
     "name": "stdout",
     "output_type": "stream",
     "text": [
      "1\n",
      "2\n",
      "3\n",
      "4\n",
      "5\n",
      "6\n",
      "7\n"
     ]
    }
   ],
   "source": [
    "##glance at while\n",
    "##while loop is executed until the condition is met\n",
    "i=1\n",
    "while i<10:\n",
    "    print(i)\n",
    "    i+=1\n",
    "    if i==8:\n",
    "        break"
   ]
  },
  {
   "cell_type": "markdown",
   "metadata": {},
   "source": [
    "<h6>------------------------------------------------------------------------------------------------------------------------------------------------------------------------------------------------------------------------------------------------------------------------------------------------------------------------------------------------------------------------------------------------------------------------------------------------------------------------------------------------------------------------------------------------------------------------------------------------------------------------------------------------------------------------------------------------------------------------------------------------------------------------------------------------------------------------------------------------------------------------</h6>"
   ]
  },
  {
   "cell_type": "markdown",
   "metadata": {},
   "source": [
    "<h3>Excersice 2--Hacking ATM by bruteforcing</h3>\n",
    "<p>\n",
    "    You should write a program that can check if the number is the atm pin of user...manually we have to first check 1 and 2 and 3 and 4 and 5....and as atm pin is 4 digit long it will take us (in worst case) 9999 attempt to crack the pin..\n",
    "    but we dont want to spend that much time to crack a simple four digit number .. that is where power of loop comes \n",
    "</p>\n",
    "<p>\n",
    "    Your task is to take input from user and ask for them for their pin number..(arbitrary)<br> \n",
    "    and you should print \"You have been hacked haha\" when u are able to crack their number and also print the number inputed by user<br>\n",
    "    </p>\n",
    "    <p>\n",
    "    Dont think much Take easy approach:)</p>"
   ]
  },
  {
   "cell_type": "code",
   "execution_count": 11,
   "metadata": {},
   "outputs": [
    {
     "name": "stdout",
     "output_type": "stream",
     "text": [
      "Enter your pin number8999\n",
      "8999\n",
      "You have been hacked hahaha\n"
     ]
    }
   ],
   "source": [
    "correct_pin=int(input(\"Enter your pin number\"))\n",
    "for i in range(10000):\n",
    "    if (i==correct_pin):\n",
    "        print(i)\n",
    "        print(\"You have been hacked hahaha\")"
   ]
  },
  {
   "cell_type": "markdown",
   "metadata": {},
   "source": [
    "<h3>Excersice 3--print all squares</h3><br>\n",
    "Take an input from user (for eg:5) and for all non-negative number less than user's input print i**2 <br>\n",
    "for eg if i=10 your program should print i=[0,1,4,9,16,25,36,49,64,81] (not including 10)"
   ]
  },
  {
   "cell_type": "code",
   "execution_count": 24,
   "metadata": {},
   "outputs": [
    {
     "name": "stdout",
     "output_type": "stream",
     "text": [
      "Your input: 4\n",
      "[0, 1, 4, 9]\n"
     ]
    }
   ],
   "source": [
    "num_input=int(input(\"Your input: \"))\n",
    "result=[]\n",
    "for i in range(num_input):\n",
    "    square=i**2\n",
    "    result.append(square)\n",
    "print(result)\n",
    "\n",
    "# result=[i**2 for i in range(num_input) if i<4] ##LIST comprehension\n",
    "# result"
   ]
  },
  {
   "cell_type": "markdown",
   "metadata": {},
   "source": [
    "<p style=\"font-size:20px\"><b>FUNCTION</b></p><br>\n",
    "<p style=\"font-size:15px;line-height:40px;font-style=sans-serif\"><i>\n",
    "A function is a block of code which only runs when it is called.<br>\n",
    "You can pass data, known as parameters, into a function.A function can return data as a result.<br>\n",
    "Its just like mathmatics function.. you give it some input and it process and carry out some operation and return you output<br>  \n",
    "</i>\n",
    "Why function???\n",
    "    <ul>\n",
    "    <li> Functions allow us to divide the problem into logical chunks of sub-problems that\n",
    "        we can separately deal with.</li>\n",
    "        <li>makes code more readable and more structured!\n",
    "        </li>\n",
    "        <li>\n",
    "            makes debugging easy !\n",
    "        </li>\n",
    "</ul>\n",
    "</p>"
   ]
  },
  {
   "cell_type": "code",
   "execution_count": 2,
   "metadata": {},
   "outputs": [],
   "source": [
    "##eg-1\n",
    "\n",
    "def add(a,b):    #---->parameter \n",
    "    return a+b\n",
    "\n",
    "x=4\n",
    "y=5\n",
    "sum=add(x,y)    #------>argument"
   ]
  },
  {
   "cell_type": "code",
   "execution_count": 4,
   "metadata": {},
   "outputs": [
    {
     "data": {
      "text/plain": [
       "'Welcome Binit'"
      ]
     },
     "execution_count": 4,
     "metadata": {},
     "output_type": "execute_result"
    }
   ],
   "source": [
    "def add_string(name):\n",
    "    return \"Welcome \"+name\n",
    "\n",
    "add_string(\"Binit\")"
   ]
  },
  {
   "cell_type": "code",
   "execution_count": 8,
   "metadata": {},
   "outputs": [
    {
     "data": {
      "text/plain": [
       "(42, 43, 123)"
      ]
     },
     "execution_count": 8,
     "metadata": {},
     "output_type": "execute_result"
    }
   ],
   "source": [
    "##arbitraty arguments \n",
    "def testt(*args):\n",
    "    return args[0],args[1],args[2]\n",
    "testt(42,43,123)"
   ]
  },
  {
   "cell_type": "markdown",
   "metadata": {},
   "source": [
    "<h3>Excersice 4--function-->swap numbers</h3><br>\n",
    "take two inputs from user num1 and num2 and swap the value \"stored\" in variables <br>\n",
    "num1=10  and num2=20<br>\n",
    "|<br>\n",
    "|<br>\n",
    " function <br>\n",
    " |<br>\n",
    " |<br>\n",
    "num1=20  and num2=10"
   ]
  },
  {
   "cell_type": "code",
   "execution_count": 26,
   "metadata": {},
   "outputs": [
    {
     "name": "stdout",
     "output_type": "stream",
     "text": [
      "First number45\n",
      "Second number43\n",
      "num1 is 43\n",
      "num2 is 45\n"
     ]
    }
   ],
   "source": [
    "num1=int(input(\"First number\"))\n",
    "num2=int(input(\"Second number\"))\n",
    "\n",
    "def swap(a,b):\n",
    "    temp=a\n",
    "    a=b\n",
    "    b=temp\n",
    "    return a,b\n",
    "\n",
    "num1,num2=swap(num1,num2)\n",
    "print(f\"num1 is {num1}\")\n",
    "print(f\"num2 is {num2}\")\n"
   ]
  }
 ],
 "metadata": {
  "kernelspec": {
   "display_name": "Python 3",
   "language": "python",
   "name": "python3"
  },
  "language_info": {
   "codemirror_mode": {
    "name": "ipython",
    "version": 3
   },
   "file_extension": ".py",
   "mimetype": "text/x-python",
   "name": "python",
   "nbconvert_exporter": "python",
   "pygments_lexer": "ipython3",
   "version": "3.7.3"
  }
 },
 "nbformat": 4,
 "nbformat_minor": 2
}
